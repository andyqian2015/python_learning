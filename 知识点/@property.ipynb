{
 "cells": [
  {
   "cell_type": "code",
   "execution_count": 1,
   "metadata": {},
   "outputs": [],
   "source": [
    "# 在类的方法里，使用@property实现对该方法的直接调用，类似于__init__方法和__call__方法\n",
    "#　ref\n",
    "# https://www.cnblogs.com/sgfg-1314/p/10110680.html"
   ]
  },
  {
   "cell_type": "code",
   "execution_count": 5,
   "metadata": {},
   "outputs": [],
   "source": [
    "# @property起到类似保护的作用"
   ]
  },
  {
   "cell_type": "code",
   "execution_count": 17,
   "metadata": {},
   "outputs": [],
   "source": [
    "class Rectangle(object):\n",
    "    def __init__(self):\n",
    "        self.width = 10\n",
    "        pass\n",
    "    @property #实现像成员变量一样的调用方法，实现像成员变量一样对其设置，如果增加了方法@width.setter\n",
    "    def width(self):\n",
    "        return self.true_width\n",
    "    @property\n",
    "    def height(self):\n",
    "        return self.true_height\n",
    "    @width.setter\n",
    "    def width(self, input_width):\n",
    "        self.true_width = input_width\n",
    "    @height.setter\n",
    "    def height(self, input_height):\n",
    "        self.true_height = input_height\n",
    "    "
   ]
  },
  {
   "cell_type": "code",
   "execution_count": 18,
   "metadata": {},
   "outputs": [
    {
     "name": "stdout",
     "output_type": "stream",
     "text": [
      "20 10\n"
     ]
    }
   ],
   "source": [
    "# 不管是初始化方法，还是在其他地方设置属性都会出错，必须要通过@func.setter对其进行设置,就可以实现设置的目的,但是这样@property就失去了作用了\n",
    "# can't set attribute\n",
    "s = Rectangle()\n",
    "s.width = 20\n",
    "s.height = 10\n",
    "print(s.width, s.height)"
   ]
  },
  {
   "cell_type": "code",
   "execution_count": null,
   "metadata": {},
   "outputs": [],
   "source": []
  }
 ],
 "metadata": {
  "kernelspec": {
   "display_name": "Python 3",
   "language": "python",
   "name": "python3"
  },
  "language_info": {
   "codemirror_mode": {
    "name": "ipython",
    "version": 3
   },
   "file_extension": ".py",
   "mimetype": "text/x-python",
   "name": "python",
   "nbconvert_exporter": "python",
   "pygments_lexer": "ipython3",
   "version": "3.6.4"
  }
 },
 "nbformat": 4,
 "nbformat_minor": 4
}
