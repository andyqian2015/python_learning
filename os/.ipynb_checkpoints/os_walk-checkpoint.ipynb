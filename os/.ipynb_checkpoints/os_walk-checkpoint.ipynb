{
 "cells": [
  {
   "cell_type": "code",
   "execution_count": 1,
   "metadata": {},
   "outputs": [],
   "source": [
    "import os"
   ]
  },
  {
   "cell_type": "code",
   "execution_count": 2,
   "metadata": {},
   "outputs": [],
   "source": [
    "path = \"/home/andy/github/jupyter/python/os/myfolder\""
   ]
  },
  {
   "cell_type": "code",
   "execution_count": 6,
   "metadata": {},
   "outputs": [
    {
     "name": "stdout",
     "output_type": "stream",
     "text": [
      "/home/andy/github/jupyter/python/os/myfolder\n",
      "[]\n",
      "/home/andy/github/jupyter/python/os/myfolder/A\n",
      "[]\n",
      "/home/andy/github/jupyter/python/os/myfolder/A/B\n",
      "['b.txt', 'a.txt']\n"
     ]
    }
   ],
   "source": [
    "# 按层获取文件夹的文件和其他信息\n",
    "# dirs为当前层文件夹的目录\n",
    "# root为当前层所对应的目录\n",
    "for root, dirs, files in os.walk(path):\n",
    "    print(root)\n",
    "    print(files)"
   ]
  },
  {
   "cell_type": "code",
   "execution_count": null,
   "metadata": {},
   "outputs": [],
   "source": []
  }
 ],
 "metadata": {
  "kernelspec": {
   "display_name": "Python 3",
   "language": "python",
   "name": "python3"
  },
  "language_info": {
   "codemirror_mode": {
    "name": "ipython",
    "version": 3
   },
   "file_extension": ".py",
   "mimetype": "text/x-python",
   "name": "python",
   "nbconvert_exporter": "python",
   "pygments_lexer": "ipython3",
   "version": "3.6.4"
  }
 },
 "nbformat": 4,
 "nbformat_minor": 4
}
