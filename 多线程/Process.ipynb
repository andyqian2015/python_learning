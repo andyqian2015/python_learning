{
 "cells": [
  {
   "cell_type": "code",
   "execution_count": 13,
   "metadata": {},
   "outputs": [],
   "source": [
    "from multiprocessing import Process\n",
    "import os\n",
    "import time\n",
    "# ref https://blog.csdn.net/HeatDeath/article/details/72842899"
   ]
  },
  {
   "cell_type": "code",
   "execution_count": 14,
   "metadata": {},
   "outputs": [],
   "source": [
    "def run_proc(name):\n",
    "    print(time.time())\n",
    "    time.sleep(10)\n",
    "    print(\"Run child process %s(%s)\"%(name, os.getpid()))"
   ]
  },
  {
   "cell_type": "code",
   "execution_count": 15,
   "metadata": {},
   "outputs": [],
   "source": [
    "def hello_world():\n",
    "    print(time.time()) \n",
    "    time.sleep(20)\n",
    "    print(\"hello world\")\n",
    "    print(\"Run child process(%s)\"%(os.getpid()))"
   ]
  },
  {
   "cell_type": "code",
   "execution_count": 17,
   "metadata": {},
   "outputs": [
    {
     "name": "stdout",
     "output_type": "stream",
     "text": [
      "Parent process 17576\n",
      "Process will start\n",
      "Processed\n"
     ]
    }
   ],
   "source": [
    "if __name__ == \"__main__\":\n",
    "    print(\"Parent process %s\" %os.getpid())\n",
    "    p1 = Process(target=run_proc, args=(\"test\",)) # 构建两个进程\n",
    "    p2 = Process(target=hello_world) #构建两个进程\n",
    "    print(\"Process will start\")\n",
    "#     p1.start() # 启动线程p1\n",
    "#     p2.start() # 启动线程p2\n",
    "#     p1.join() # 当线程p1未结束时，其他线程不得运行\n",
    "    p_list = (p1, p2)\n",
    "    map(Process.start, p_list)\n",
    "    print(\"Processed\")"
   ]
  },
  {
   "cell_type": "markdown",
   "metadata": {},
   "source": [
    "![jupyter](./多线程运行流程图.jpeg)"
   ]
  },
  {
   "cell_type": "markdown",
   "metadata": {},
   "source": [
    "由这个图就可以得到为什么Process end会先运行的原因，因为子线程１运行完之后，p1.join()之后，将所有权交给主线程，然后主线程运行完成，，子线程p2调用  \n",
    "由时间上可以看到两个子线程差不多是同时启动开始的  \n",
    "利用map的方法将Process.start映射到具体的线程上还存在问题，之后可以查一下"
   ]
  },
  {
   "cell_type": "code",
   "execution_count": null,
   "metadata": {},
   "outputs": [],
   "source": []
  }
 ],
 "metadata": {
  "kernelspec": {
   "display_name": "Python 3",
   "language": "python",
   "name": "python3"
  },
  "language_info": {
   "codemirror_mode": {
    "name": "ipython",
    "version": 3
   },
   "file_extension": ".py",
   "mimetype": "text/x-python",
   "name": "python",
   "nbconvert_exporter": "python",
   "pygments_lexer": "ipython3",
   "version": "3.6.4"
  }
 },
 "nbformat": 4,
 "nbformat_minor": 4
}
