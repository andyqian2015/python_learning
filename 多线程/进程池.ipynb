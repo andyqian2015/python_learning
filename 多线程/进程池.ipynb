{
 "cells": [
  {
   "cell_type": "markdown",
   "metadata": {},
   "source": [
    "multiprocessing.Pool     \n",
    "Pool类提供指定数量供用户使用，若有新的请求提交到Pool中时，若还未满，则创建一个新的进程来执行请求，若池满，则告知先等待，直到有进程借宿，才会创建新的集成执行请求    \n",
    "1. apply(func[, args=()[, kwds={}]]) python3.x后不再出现\n",
    "2. apply_async(func,[, args=()[, kwds={}[, callback=None]]], 为非阻塞的且支持结果返回后回调  \n",
    "3. map(func, iterable[, chunksize=None])使进程阻塞直到结果返回\n",
    "4. map_async(func, iterable[, chunksize[, callback]])为非阻塞的方式\n",
    "5. close():关闭进程池，不接受新的任务\n",
    "6. terminal(): 结束工作任务，不再处理未完成任务\n",
    "7. join():主线程阻塞等待子线程退出， join方法要在close和terminate之后调用"
   ]
  },
  {
   "cell_type": "code",
   "execution_count": 48,
   "metadata": {},
   "outputs": [],
   "source": [
    "import os\n",
    "import time\n",
    "from multiprocessing import Pool\n",
    "import multiprocessing\n",
    "# ref\n",
    "# https://www.cnblogs.com/ailiailan/p/11850710.html"
   ]
  },
  {
   "cell_type": "code",
   "execution_count": 4,
   "metadata": {},
   "outputs": [],
   "source": [
    "def run(fn):\n",
    "    time.sleep(1)\n",
    "    print(fn*fn)"
   ]
  },
  {
   "cell_type": "code",
   "execution_count": 5,
   "metadata": {},
   "outputs": [
    {
     "name": "stdout",
     "output_type": "stream",
     "text": [
      "sequential\n",
      "1\n",
      "4\n",
      "9\n",
      "16\n",
      "25\n",
      "36\n",
      "sequential execute 6\n"
     ]
    }
   ],
   "source": [
    "if __name__ == \"__main__\":\n",
    "    testFL = [1, 2, 3, 4, 5, 6]\n",
    "    print(\"sequential\")\n",
    "    s = time.time()\n",
    "    for fn in testFL:\n",
    "        run(fn)\n",
    "    t1 = time.time()\n",
    "    print(\"sequential execute\", int(t1-s))"
   ]
  },
  {
   "cell_type": "code",
   "execution_count": 18,
   "metadata": {},
   "outputs": [
    {
     "name": "stdout",
     "output_type": "stream",
     "text": [
      "concurrent\n",
      "1\n",
      "4\n",
      "9\n",
      "16\n",
      "25\n",
      "36\n",
      "sequential execute 3\n"
     ]
    }
   ],
   "source": [
    "# 基于线程池运行,这中放好似下，输入的参数列表像队列一样排列，并不是顺序执行，谁等到进程，就给谁执行,这样时间会短一点\n",
    "if __name__ == \"__main__\":\n",
    "    testFL = [1, 2, 3, 4, 5, 6]\n",
    "    t1 = time.time()\n",
    "    print(\"concurrent\")\n",
    "    pool = Pool(2) #当进程数为3时候，会一次性打印三个结果\n",
    "    pool.map(run, testFL) # 这种方式比较简单，直接将参数序列映射到函数的参数列表中\n",
    "    pool.close() # 关闭进程池，不再接受新的进程\n",
    "    pool.join() # 主进程阻塞等待子线程推出\n",
    "    s = time.time()\n",
    "    t2 = time.time()\n",
    "    print(\"sequential execute\", int(t2-t1))"
   ]
  },
  {
   "cell_type": "code",
   "execution_count": 19,
   "metadata": {},
   "outputs": [
    {
     "name": "stdout",
     "output_type": "stream",
     "text": [
      "concurrent\n",
      "1\n",
      "4\n",
      "16\n",
      "9\n",
      "36\n",
      "25\n",
      "sequential execute 3\n"
     ]
    }
   ],
   "source": [
    "# 使用map_async的方法执行\n",
    "# 基于线程池运行,这中放好似下，输入的参数列表像队列一样排列，并不是顺序执行，谁等到进程，就给谁执行,这样时间会短一点\n",
    "if __name__ == \"__main__\":\n",
    "    testFL = [1, 2, 3, 4, 5, 6]\n",
    "    t1 = time.time()\n",
    "    print(\"concurrent\")\n",
    "    pool = Pool(2) #当进程数为3时候，会一次性打印三个结果\n",
    "    pool.map_async(run, testFL) # 这种方式比较简单，直接将参数序列映射到函数的参数列表中\n",
    "    pool.close() # 关闭进程池，不再接受新的进程\n",
    "    pool.join() # 主进程阻塞等待子线程推出\n",
    "    s = time.time()\n",
    "    t2 = time.time()\n",
    "    print(\"sequential execute\", int(t2-t1))"
   ]
  },
  {
   "cell_type": "code",
   "execution_count": 21,
   "metadata": {},
   "outputs": [
    {
     "name": "stdout",
     "output_type": "stream",
     "text": [
      "concurrent\n",
      "4\n",
      "1\n",
      "9\n",
      "16\n",
      "25\n",
      "36\n",
      "sequential execute 3\n"
     ]
    }
   ],
   "source": [
    "# 使用apply_async()非阻塞的方式\n",
    "# 结果类似于map/map_async的方法\n",
    "if __name__ == \"__main__\":\n",
    "    testFL = [1, 2, 3, 4, 5, 6]\n",
    "    t1 = time.time()\n",
    "    print(\"concurrent\")\n",
    "    pool = Pool(2) #当进程数为3时候，会一次性打印三个结果\n",
    "    for fn in testFL:\n",
    "        pool.apply_async(run, (fn,))\n",
    "    pool.close() # 关闭进程池，不再接受新的进程\n",
    "    pool.join() # 主进程阻塞等待子线程推出\n",
    "    s = time.time()\n",
    "    t2 = time.time()\n",
    "    print(\"sequential execute\", int(t2-t1))"
   ]
  },
  {
   "cell_type": "code",
   "execution_count": 22,
   "metadata": {},
   "outputs": [],
   "source": [
    "# 基于apply_async()方法callback参数的方法"
   ]
  },
  {
   "cell_type": "code",
   "execution_count": 23,
   "metadata": {},
   "outputs": [],
   "source": [
    "def fun_01(i):\n",
    "    time.sleep(2)\n",
    "    print(\"start_time\", time.ctime())\n",
    "    return (i+100)"
   ]
  },
  {
   "cell_type": "code",
   "execution_count": 24,
   "metadata": {},
   "outputs": [],
   "source": [
    "def fun_02(arg):\n",
    "    print(\"end_time\", arg, time.ctime())"
   ]
  },
  {
   "cell_type": "code",
   "execution_count": 26,
   "metadata": {},
   "outputs": [
    {
     "name": "stdout",
     "output_type": "stream",
     "text": [
      "start_time Fri Jun  5 17:18:16 2020\n",
      "end_time 100 Fri Jun  5 17:18:16 2020\n",
      "start_time Fri Jun  5 17:18:18 2020\n",
      "end_time 101 Fri Jun  5 17:18:18 2020\n",
      "start_time Fri Jun  5 17:18:20 2020\n",
      "end_time 102 Fri Jun  5 17:18:20 2020\n",
      "start_time Fri Jun  5 17:18:22 2020\n",
      "end_time 103 Fri Jun  5 17:18:22 2020\n",
      "done\n"
     ]
    }
   ],
   "source": [
    "# 如果进程池里面的进程为１,则为顺序模型\n",
    "if __name__ == \"__main__\":\n",
    "    pool = Pool(1)\n",
    "    for i in range(4):\n",
    "        pool.apply_async(func=fun_01, args=(i,), callback=fun_02) #call_back作为一个参数传入，传入的值为地一个函数传递进去的值\n",
    "    pool.close()\n",
    "    pool.join()\n",
    "    print(\"done\")"
   ]
  },
  {
   "cell_type": "code",
   "execution_count": 27,
   "metadata": {},
   "outputs": [],
   "source": [
    "def func(msg):\n",
    "    print(\"hello:\", msg, time.ctime())\n",
    "    time.sleep(2)\n",
    "    print(\"end\", time.ctime())\n",
    "    return \"down\" + msg"
   ]
  },
  {
   "cell_type": "code",
   "execution_count": 29,
   "metadata": {},
   "outputs": [
    {
     "name": "stdout",
     "output_type": "stream",
     "text": [
      "hello: hello 0 Fri Jun  5 17:24:41 2020\n",
      "hello: hello 1 Fri Jun  5 17:24:41 2020\n",
      "hello: hello 2 Fri Jun  5 17:24:41 2020\n",
      "end Fri Jun  5 17:24:43 2020\n",
      "end Fri Jun  5 17:24:43 2020\n",
      "end Fri Jun  5 17:24:43 2020\n",
      "*** downhello 0\n",
      "*** downhello 1\n",
      "*** downhello 2\n",
      "All end--\n"
     ]
    }
   ],
   "source": [
    "#　可以实现带参数的返回\n",
    "if __name__ == \"__main__\":\n",
    "    pool = Pool(3)\n",
    "    result = []\n",
    "    for i in range(3):\n",
    "        msg = \"hello %s\" %i\n",
    "        result.append(pool.apply_async(func=func, args=(msg,))) # 返回的是一个多线程的函数式列表，需要调用get的方法获取\n",
    "    pool.close()\n",
    "    pool.join()\n",
    "    for res in result:\n",
    "        print(\"***\", res.get())\n",
    "    print(\"All end--\")"
   ]
  },
  {
   "cell_type": "code",
   "execution_count": 30,
   "metadata": {},
   "outputs": [
    {
     "data": {
      "text/plain": [
       "[<multiprocessing.pool.ApplyResult at 0x7f40c286e4e0>,\n",
       " <multiprocessing.pool.ApplyResult at 0x7f40c286ea58>,\n",
       " <multiprocessing.pool.ApplyResult at 0x7f40c286e780>]"
      ]
     },
     "execution_count": 30,
     "metadata": {},
     "output_type": "execute_result"
    }
   ],
   "source": [
    "result"
   ]
  },
  {
   "cell_type": "code",
   "execution_count": 31,
   "metadata": {},
   "outputs": [],
   "source": [
    "# 多进程执行多个函数"
   ]
  },
  {
   "cell_type": "code",
   "execution_count": 42,
   "metadata": {},
   "outputs": [],
   "source": [
    "def Lee():\n",
    "    print('\\nRun task Lee--%s******ppid:%s' % (os.getpid(), os.getppid()), '~~~~', time.ctime())\n",
    "    start = time.time()\n",
    "    time.sleep(5)\n",
    "    end = time.time()\n",
    "    print('Task Lee,runs %0.2f seconds.' % (end - start), '~~~~', time.ctime())"
   ]
  },
  {
   "cell_type": "code",
   "execution_count": 43,
   "metadata": {},
   "outputs": [],
   "source": [
    "def Marlon():\n",
    "    print(\"\\nRun task Marlon-%s******ppid:%s\" % (os.getpid(), os.getppid()), '~~~~', time.ctime())\n",
    "    start = time.time()\n",
    "    time.sleep(10)\n",
    "    end = time.time()\n",
    "    print('Task Marlon runs %0.2f seconds.' % (end - start), '~~~~', time.ctime())"
   ]
  },
  {
   "cell_type": "code",
   "execution_count": 44,
   "metadata": {},
   "outputs": [],
   "source": [
    "def Allen():\n",
    "    print(\"\\nRun task Allen-%s******ppid:%s\" % (os.getpid(), os.getppid()), '~~~~', time.ctime())\n",
    "    start = time.time()\n",
    "    time.sleep(15)\n",
    "    end = time.time()\n",
    "    print('Task Allen runs %0.2f seconds.' % (end - start), '~~~~', time.ctime())"
   ]
  },
  {
   "cell_type": "code",
   "execution_count": 45,
   "metadata": {},
   "outputs": [],
   "source": [
    "def Frank():\n",
    "    print(\"\\nRun task Frank-%s******ppid:%s\" % (os.getpid(), os.getppid()), '~~~~', time.ctime())\n",
    "    start = time.time()\n",
    "    time.sleep(20)\n",
    "    end = time.time()\n",
    "    print('Task Frank runs %0.2f seconds.' % (end - start), '~~~~', time.ctime())"
   ]
  },
  {
   "cell_type": "code",
   "execution_count": 46,
   "metadata": {},
   "outputs": [
    {
     "name": "stdout",
     "output_type": "stream",
     "text": [
      "parent process id 21185\n",
      "\n",
      "Run task Allen-8655******ppid:21185\n",
      "Run task Marlon-8654******ppid:21185\n",
      "Run task Frank-8656******ppid:21185\n",
      "Run task Lee--8653******ppid:21185 ~~~~ Fri Jun  5 18:15:44 2020\n",
      " ~~~~ Fri Jun  5 18:15:44 2020\n",
      " ~~~~ Fri Jun  5 18:15:44 2020\n",
      " ~~~~ Fri Jun  5 18:15:44 2020\n",
      "Waiting for all subprocesses done...\n",
      "Task Lee,runs 5.01 seconds. ~~~~ Fri Jun  5 18:15:49 2020\n",
      "Task Marlon runs 10.01 seconds. ~~~~ Fri Jun  5 18:15:54 2020\n",
      "Task Allen runs 15.00 seconds. ~~~~ Fri Jun  5 18:15:59 2020\n",
      "Task Frank runs 20.02 seconds. ~~~~ Fri Jun  5 18:16:04 2020\n",
      "All subprocesses done.\n"
     ]
    }
   ],
   "source": [
    "if __name__ == \"__main__\":\n",
    "    func_list = [Lee, Marlon, Allen, Frank]\n",
    "    print('parent process id %s' % os.getpid())\n",
    "    pool = Pool(4)\n",
    "    for func in func_list:\n",
    "        pool.apply_async(func) # 直接把函数加进来运行，　这个是在同一时间段跑的，在sleep的时候，会同时跑其他的代码，因为是并行的4\n",
    "    \n",
    "    print('Waiting for all subprocesses done...')\n",
    "    pool.close()\n",
    "    pool.join()\n",
    "    print('All subprocesses done.')"
   ]
  },
  {
   "cell_type": "code",
   "execution_count": 49,
   "metadata": {},
   "outputs": [
    {
     "data": {
      "text/plain": [
       "8"
      ]
     },
     "execution_count": 49,
     "metadata": {},
     "output_type": "execute_result"
    }
   ],
   "source": [
    "# 获取cpu数\n",
    "multiprocessing.cpu_count()"
   ]
  },
  {
   "cell_type": "code",
   "execution_count": null,
   "metadata": {},
   "outputs": [],
   "source": []
  }
 ],
 "metadata": {
  "kernelspec": {
   "display_name": "Python 3",
   "language": "python",
   "name": "python3"
  },
  "language_info": {
   "codemirror_mode": {
    "name": "ipython",
    "version": 3
   },
   "file_extension": ".py",
   "mimetype": "text/x-python",
   "name": "python",
   "nbconvert_exporter": "python",
   "pygments_lexer": "ipython3",
   "version": "3.6.4"
  }
 },
 "nbformat": 4,
 "nbformat_minor": 4
}
