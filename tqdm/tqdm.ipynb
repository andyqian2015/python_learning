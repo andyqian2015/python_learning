{
 "cells": [
  {
   "cell_type": "code",
   "execution_count": 22,
   "metadata": {},
   "outputs": [],
   "source": [
    "from tqdm import tqdm\n",
    "# this make show in one line\n",
    "from tqdm import tqdm_notebook as tqdm\n",
    "import time\n",
    "# ref\n",
    "#　https://blog.csdn.net/zkp_987/article/details/81748098\n",
    "#　https://blog.csdn.net/zkp_987/article/details/81748098"
   ]
  },
  {
   "cell_type": "code",
   "execution_count": 29,
   "metadata": {},
   "outputs": [
    {
     "data": {
      "application/vnd.jupyter.widget-view+json": {
       "model_id": "214be0baacd74eac9c35aadaa042a596",
       "version_major": 2,
       "version_minor": 0
      },
      "text/plain": [
       "HBox(children=(IntProgress(value=0, description='Loading Patient', style=ProgressStyle(description_width='init…"
      ]
     },
     "metadata": {},
     "output_type": "display_data"
    }
   ],
   "source": [
    "for i in tqdm(range(100), desc = \"Loading Patient\"):\n",
    "    time.sleep(0.01)\n",
    "    pass"
   ]
  },
  {
   "cell_type": "code",
   "execution_count": 25,
   "metadata": {},
   "outputs": [
    {
     "data": {
      "application/vnd.jupyter.widget-view+json": {
       "model_id": "b6f65dd5945e40eeb65a3d518d69b29a",
       "version_major": 2,
       "version_minor": 0
      },
      "text/plain": [
       "HBox(children=(IntProgress(value=0, max=4), HTML(value='')))"
      ]
     },
     "metadata": {},
     "output_type": "display_data"
    },
    {
     "name": "stdout",
     "output_type": "stream",
     "text": [
      "a\n",
      "b\n",
      "c\n",
      "d\n"
     ]
    }
   ],
   "source": [
    "for char in tqdm([\"a\", \"b\", \"c\", \"d\"]):\n",
    "    print(char)\n",
    "    time.sleep(1)"
   ]
  },
  {
   "cell_type": "code",
   "execution_count": 9,
   "metadata": {},
   "outputs": [],
   "source": [
    "# trangle(i)是tqdm(range())的简写形式\n",
    "from tqdm import trange"
   ]
  },
  {
   "cell_type": "code",
   "execution_count": 10,
   "metadata": {},
   "outputs": [
    {
     "name": "stderr",
     "output_type": "stream",
     "text": [
      "100%|██████████| 100/100 [00:10<00:00,  9.81it/s]\n"
     ]
    }
   ],
   "source": [
    "for i in trange(100):\n",
    "    time.sleep(0.1)"
   ]
  },
  {
   "cell_type": "code",
   "execution_count": 11,
   "metadata": {},
   "outputs": [],
   "source": [
    "# 在for循环外打印信息"
   ]
  },
  {
   "cell_type": "code",
   "execution_count": 16,
   "metadata": {},
   "outputs": [
    {
     "name": "stderr",
     "output_type": "stream",
     "text": [
      "\n",
      "  0%|          | 0/4 [00:00<?, ?it/s]\u001b[A\n",
      "Processing a::   0%|          | 0/4 [00:01<?, ?it/s]\u001b[A\n",
      "Processing a::  25%|██▌       | 1/4 [00:01<00:03,  1.01s/it]\u001b[A\n",
      "Processing b::  25%|██▌       | 1/4 [00:02<00:03,  1.01s/it]\u001b[A\n",
      "Processing b::  50%|█████     | 2/4 [00:02<00:02,  1.01s/it]\u001b[A\n",
      "Processing c::  50%|█████     | 2/4 [00:03<00:02,  1.01s/it]\u001b[A\n",
      "Processing c::  75%|███████▌  | 3/4 [00:03<00:01,  1.01s/it]\u001b[A\n",
      "Processing d::  75%|███████▌  | 3/4 [00:04<00:01,  1.01s/it]\u001b[A\n",
      "Processing d:: 100%|██████████| 4/4 [00:04<00:00,  1.01s/it]\u001b[A"
     ]
    }
   ],
   "source": [
    "pbar = tqdm([\"a\", \"b\", \"c\", \"d\"])\n",
    "for char in pbar:\n",
    "    time.sleep(1)\n",
    "    pbar.set_description(\"Processing %s:\" %char)"
   ]
  },
  {
   "cell_type": "code",
   "execution_count": null,
   "metadata": {},
   "outputs": [],
   "source": []
  }
 ],
 "metadata": {
  "kernelspec": {
   "display_name": "Python 3",
   "language": "python",
   "name": "python3"
  },
  "language_info": {
   "codemirror_mode": {
    "name": "ipython",
    "version": 3
   },
   "file_extension": ".py",
   "mimetype": "text/x-python",
   "name": "python",
   "nbconvert_exporter": "python",
   "pygments_lexer": "ipython3",
   "version": "3.6.4"
  }
 },
 "nbformat": 4,
 "nbformat_minor": 4
}
