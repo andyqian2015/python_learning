{
 "cells": [
  {
   "cell_type": "code",
   "execution_count": 1,
   "metadata": {},
   "outputs": [],
   "source": [
    "import os\n",
    "# ref\n",
    "# https://www.runoob.com/linux/linux-comm-chown.html\n",
    "# https://www.runoob.com/linux/linux-comm-chown.html"
   ]
  },
  {
   "cell_type": "code",
   "execution_count": 2,
   "metadata": {},
   "outputs": [],
   "source": [
    "# 获取当前代码运行的平台"
   ]
  },
  {
   "cell_type": "code",
   "execution_count": 3,
   "metadata": {},
   "outputs": [
    {
     "data": {
      "text/plain": [
       "'posix'"
      ]
     },
     "execution_count": 3,
     "metadata": {},
     "output_type": "execute_result"
    }
   ],
   "source": [
    "os.name  # posix代表的是Ｌinux系统，nt代表的是window系统"
   ]
  },
  {
   "cell_type": "code",
   "execution_count": 6,
   "metadata": {},
   "outputs": [
    {
     "data": {
      "text/plain": [
       "posix.uname_result(sysname='Linux', nodename='andy', release='4.15.0-32-generic', version='#35~16.04.1-Ubuntu SMP Fri Aug 10 21:54:34 UTC 2018', machine='x86_64')"
      ]
     },
     "execution_count": 6,
     "metadata": {},
     "output_type": "execute_result"
    }
   ],
   "source": [
    "os.uname() # Liux支持的显示输出，包括系统名/节点名/版本/machine版本x64/86"
   ]
  },
  {
   "cell_type": "code",
   "execution_count": 7,
   "metadata": {},
   "outputs": [],
   "source": [
    "# 另外一种查看系统的方法"
   ]
  },
  {
   "cell_type": "code",
   "execution_count": 8,
   "metadata": {},
   "outputs": [
    {
     "data": {
      "text/plain": [
       "'linux'"
      ]
     },
     "execution_count": 8,
     "metadata": {},
     "output_type": "execute_result"
    }
   ],
   "source": [
    "import sys\n",
    "sys.platform  #显示是linux还是windows版本"
   ]
  },
  {
   "cell_type": "code",
   "execution_count": 9,
   "metadata": {},
   "outputs": [],
   "source": [
    "#　同样sys也可确定是使用python的哪个版本"
   ]
  },
  {
   "cell_type": "code",
   "execution_count": 11,
   "metadata": {},
   "outputs": [
    {
     "data": {
      "text/plain": [
       "'3.6.4 (default, Nov 12 2019, 10:24:32) \\n[GCC 5.4.0 20160609]'"
      ]
     },
     "execution_count": 11,
     "metadata": {},
     "output_type": "execute_result"
    }
   ],
   "source": [
    "sys.version"
   ]
  },
  {
   "cell_type": "code",
   "execution_count": 13,
   "metadata": {},
   "outputs": [],
   "source": [
    "!touch test"
   ]
  },
  {
   "cell_type": "code",
   "execution_count": 16,
   "metadata": {},
   "outputs": [
    {
     "name": "stdout",
     "output_type": "stream",
     "text": [
      "ln: failed to create symbolic link 't1': File exists\r\n"
     ]
    }
   ],
   "source": [
    "! ln -s test t1 # 创建文件的软链接，将文件的信息拷贝到t1中"
   ]
  },
  {
   "cell_type": "code",
   "execution_count": 17,
   "metadata": {},
   "outputs": [
    {
     "data": {
      "text/plain": [
       "os.stat_result(st_mode=33204, st_ino=109446790, st_dev=2085, st_nlink=1, st_uid=1000, st_gid=1000, st_size=8, st_atime=1591325863, st_mtime=1591325847, st_ctime=1591325847)"
      ]
     },
     "execution_count": 17,
     "metadata": {},
     "output_type": "execute_result"
    }
   ],
   "source": [
    "#　查看文件状态, 该状态和对应的链接有相同的状态\n",
    "os.stat(\"test\")"
   ]
  },
  {
   "cell_type": "code",
   "execution_count": 18,
   "metadata": {},
   "outputs": [
    {
     "data": {
      "text/plain": [
       "os.stat_result(st_mode=33204, st_ino=109446790, st_dev=2085, st_nlink=1, st_uid=1000, st_gid=1000, st_size=8, st_atime=1591325863, st_mtime=1591325847, st_ctime=1591325847)"
      ]
     },
     "execution_count": 18,
     "metadata": {},
     "output_type": "execute_result"
    }
   ],
   "source": [
    "os.stat(\"t1\") #　指向源文件"
   ]
  },
  {
   "cell_type": "code",
   "execution_count": 19,
   "metadata": {},
   "outputs": [
    {
     "data": {
      "text/plain": [
       "os.stat_result(st_mode=41471, st_ino=109446788, st_dev=2085, st_nlink=1, st_uid=1000, st_gid=1000, st_size=4, st_atime=1591325862, st_mtime=1591325860, st_ctime=1591325860)"
      ]
     },
     "execution_count": 19,
     "metadata": {},
     "output_type": "execute_result"
    }
   ],
   "source": [
    "os.stat(\"t1\", follow_symlinks=False)　# 指想链接文件本身"
   ]
  },
  {
   "cell_type": "code",
   "execution_count": 20,
   "metadata": {},
   "outputs": [
    {
     "data": {
      "text/plain": [
       "'0o100664'"
      ]
     },
     "execution_count": 20,
     "metadata": {},
     "output_type": "execute_result"
    }
   ],
   "source": [
    "# st_mode代表文件的权限\n",
    "oct(33204)　#　代表文件的权限"
   ]
  },
  {
   "cell_type": "code",
   "execution_count": 21,
   "metadata": {},
   "outputs": [
    {
     "data": {
      "text/plain": [
       "'0o120777'"
      ]
     },
     "execution_count": 21,
     "metadata": {},
     "output_type": "execute_result"
    }
   ],
   "source": [
    "oct(41471) #代表文件的权限"
   ]
  },
  {
   "cell_type": "code",
   "execution_count": 22,
   "metadata": {},
   "outputs": [
    {
     "name": "stdout",
     "output_type": "stream",
     "text": [
      "  File: 'test'\r\n",
      "  Size: 8         \tBlocks: 8          IO Block: 4096   regular file\r\n",
      "Device: 825h/2085d\tInode: 109446790   Links: 1\r\n",
      "Access: (0664/-rw-rw-r--)  Uid: ( 1000/    andy)   Gid: ( 1000/    andy)\r\n",
      "Access: 2020-06-05 10:57:43.007960398 +0800\r\n",
      "Modify: 2020-06-05 10:57:27.023191455 +0800\r\n",
      "Change: 2020-06-05 10:57:27.059193211 +0800\r\n",
      " Birth: -\r\n"
     ]
    }
   ],
   "source": [
    "# 查看文件的权限\n",
    "! stat test # 权限对应的顺序是user/group/other的形式"
   ]
  },
  {
   "cell_type": "code",
   "execution_count": 23,
   "metadata": {},
   "outputs": [],
   "source": [
    "# os.chmod方法，　修改文件的权限\n",
    "# os.chmod(\"test2\", 0o777)\n",
    "# 对文件夹下的所有文件修改权限\n",
    "#　chmod -R folder 权限类型(７７０)(user:7, group:7, other:0)\n",
    "# rwx分别对应r:4, w:2, x:1"
   ]
  },
  {
   "cell_type": "code",
   "execution_count": 24,
   "metadata": {},
   "outputs": [],
   "source": [
    "# os.chown修改文件的所属组\n",
    "# chown runoob:runoobgroup file.txt\n",
    "# 修改文件file.txt的group/user的属性"
   ]
  },
  {
   "cell_type": "code",
   "execution_count": 25,
   "metadata": {},
   "outputs": [],
   "source": [
    "# ls -l的解释:\n",
    "#　列举目录内容包括权限（模式）、所有者、组群、大小、创建日期、文件是否是到系统其它地方的链接，以及链接的指向"
   ]
  },
  {
   "cell_type": "code",
   "execution_count": 26,
   "metadata": {},
   "outputs": [
    {
     "name": "stdout",
     "output_type": "stream",
     "text": [
      "total 12\r\n",
      "lrwxrwxrwx 1 andy andy    4 6月   5 10:57 t1 -> test\r\n",
      "-rw-rw-r-- 1 andy andy    8 6月   5 10:57 test\r\n",
      "-rw-rw-r-- 1 andy andy 6938 6月   5 11:28 Untitled.ipynb\r\n"
     ]
    }
   ],
   "source": [
    "! ls -l\n",
    "# 为文件权限/andy(所有者)/andy(群组)/大小/创建日期/文件名(当前文件到另外文件的链接)"
   ]
  },
  {
   "cell_type": "code",
   "execution_count": null,
   "metadata": {},
   "outputs": [],
   "source": [
    "!sudo chown root:andy test"
   ]
  },
  {
   "cell_type": "code",
   "execution_count": null,
   "metadata": {},
   "outputs": [],
   "source": []
  }
 ],
 "metadata": {
  "kernelspec": {
   "display_name": "Python 3",
   "language": "python",
   "name": "python3"
  },
  "language_info": {
   "codemirror_mode": {
    "name": "ipython",
    "version": 3
   },
   "file_extension": ".py",
   "mimetype": "text/x-python",
   "name": "python",
   "nbconvert_exporter": "python",
   "pygments_lexer": "ipython3",
   "version": "3.6.4"
  }
 },
 "nbformat": 4,
 "nbformat_minor": 4
}
