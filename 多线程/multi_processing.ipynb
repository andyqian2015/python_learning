{
 "cells": [
  {
   "cell_type": "code",
   "execution_count": 1,
   "metadata": {},
   "outputs": [],
   "source": [
    "#　在ython里使用多线程"
   ]
  },
  {
   "cell_type": "markdown",
   "metadata": {},
   "source": [
    "## python代码执行由python虚拟机(解释器主循环)控制，对python虚拟机访问由ＧＩＬ(global interpreter lock)控制，ＧＩＬ保证同一时刻只有一个线程运行　\n",
    "#### python虚拟机的执行过程\n",
    "１.设置GIL  \n",
    "2.切换到一个线程运行  \n",
    "3.运行，直到完成指定的字节码指令，或主动让出控制  \n",
    "４.将县城设置为睡眠状态  \n",
    "５.解锁GIL  \n",
    "6.重复以上步骤，运行下一个线程  \n",
    "由于GIL限制，python多线程实际上只能运行在单核的CPU上。若使用多核CPU并行，只能通过多进程实现。大部分并行模块中，多进程相当于多个python解释器，每个解释器对应一个进程"
   ]
  },
  {
   "cell_type": "code",
   "execution_count": 3,
   "metadata": {},
   "outputs": [],
   "source": [
    "import multiprocessing\n",
    "workers = multiprocessing.cpu_count() # 代表有８核的gpu,则可以使用８进程,基于进程的并行"
   ]
  },
  {
   "cell_type": "code",
   "execution_count": 4,
   "metadata": {},
   "outputs": [
    {
     "data": {
      "text/plain": [
       "8"
      ]
     },
     "execution_count": 4,
     "metadata": {},
     "output_type": "execute_result"
    }
   ],
   "source": [
    "workers"
   ]
  },
  {
   "cell_type": "code",
   "execution_count": 5,
   "metadata": {},
   "outputs": [],
   "source": [
    "#　nultiprocessing->Process创建进程"
   ]
  },
  {
   "cell_type": "code",
   "execution_count": 15,
   "metadata": {},
   "outputs": [],
   "source": [
    "def f(a, b=3):\n",
    "    pass"
   ]
  },
  {
   "cell_type": "code",
   "execution_count": 19,
   "metadata": {},
   "outputs": [],
   "source": [
    "p = multiprocessing.Process(target = f, args = (2,)) \n",
    "p.start()\n",
    "p.join()\n",
    "# parameter explicy\n",
    "# target:可调用对象，为子对象对应活动，相当于multiprocessing.Process子类化中重写的run方法\n",
    "#　name为线程的名称，默认None为Process-N\n",
    "# args,kwargs为进程活动非关键字参数，关键字参数\n",
    "#　XXX.start():启动进程活动\n",
    "#　XXX.join():使主调进程阻塞，直到被调用集成运行借宿或超时"
   ]
  },
  {
   "cell_type": "code",
   "execution_count": null,
   "metadata": {},
   "outputs": [],
   "source": [
    "# 进程池\n",
    "#　对多个子进程的情形，更简洁为进程池\n",
    "# multiprocessing.pool(processes=None, initializer=None, initargs=(), maxtasksperchild=None)\n",
    "# processes:使用的工作进程数量，如果是None,则使用os.cpu_count()返回的进程数目\n",
    "# initializer:每一个工作进程在开始时调用initializer(*initargs)来初始化进程\n",
    "#　maxtasksperchild：工作进程退出之前可以完成的任务数，完成后用一个新的工作进程来替代原进程，来让闲置的资源被释放。\n",
    "#　maxtasksperchild默认是None，意味着只要Pool存在工作进程就会一直存活\n",
    "#　context: 用在制定工作进程启动时的上下文，一般使用 multiprocessing.Pool() \n",
    "#　或者一个context对象的Pool()方法来创建一个池，两种方法都适当的设置了context。"
   ]
  }
 ],
 "metadata": {
  "kernelspec": {
   "display_name": "Python 3",
   "language": "python",
   "name": "python3"
  },
  "language_info": {
   "codemirror_mode": {
    "name": "ipython",
    "version": 3
   },
   "file_extension": ".py",
   "mimetype": "text/x-python",
   "name": "python",
   "nbconvert_exporter": "python",
   "pygments_lexer": "ipython3",
   "version": "3.6.4"
  }
 },
 "nbformat": 4,
 "nbformat_minor": 4
}
